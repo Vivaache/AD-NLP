{
 "cells": [
  {
   "cell_type": "code",
   "execution_count": 1,
   "id": "42617535-d9e6-456d-9463-ad9ed44f0224",
   "metadata": {},
   "outputs": [
    {
     "name": "stdout",
     "output_type": "stream",
     "text": [
      "Requirement already satisfied: PyPDF2 in c:\\users\\quant\\anaconda3\\lib\\site-packages (3.0.1)\n"
     ]
    }
   ],
   "source": [
    "!pip install PyPDF2\n",
    "\n",
    "\n",
    "\n",
    "\n"
   ]
  },
  {
   "cell_type": "code",
   "execution_count": 2,
   "id": "64112e03-2960-48fc-82be-e8b3528ca2bd",
   "metadata": {},
   "outputs": [],
   "source": [
    "import PyPDF2\n",
    "\n",
    "from PyPDF2 import PdfFileReader\n",
    "\n",
    "\n",
    "\n",
    "\n"
   ]
  },
  {
   "cell_type": "code",
   "execution_count": 3,
   "id": "282f9835-fb15-47af-8af0-ec27fd4463cc",
   "metadata": {},
   "outputs": [
    {
     "name": "stdout",
     "output_type": "stream",
     "text": [
      "Number of pages: 35\n",
      " \n",
      " \n",
      " Development  Plan for Greater Mumbai 2014‐2034                                                                                                                                                                                                                                                      \n",
      "Acknowledgements  \n",
      "The Consultant  wishes to thank the following  individuals  from the Municipal  Corporation  of \n",
      "Greater Mumbai for their invaluable  support, insights and contributions  towards ‘Working  Paper 1 \n",
      "– Preparation  of Base Map’ for the preparation  of the Development  Plan for Greater Mumbai \n",
      "2014‐34. \n",
      " Mr. Subodh Kumar, IAS, Municipal  Commissioner;  \n",
      " Mr. Rajeev Kuknoor, Chief Engineer Development  Plan; \n",
      " Mr. Sudhir Ghate, Deputy Chief Engineer Development  Plan; \n",
      " Mr. A.G. Marathe, Deputy Chief Engineer Development  Plan; \n",
      " Mr. R. Balachandran,  Executive  Engineer and Town Planning Officer, Development  Plan. \n",
      " Our gratitude  to the following  experts for their invaluable  insights and support: \n",
      " \n",
      "Mr. V.K Phatak, Former Chief Town Planner (MMRDA);  \n",
      " Mr. A.N Kale, Former Chief Engineer, (DP); \n",
      " Mr. A. S Jain Former Dy. Chief Engineer, (DP). \n",
      " We wish to especially  thank MCGM officers, Mr. Jagdish Talreja, Mr. Dinesh Naik, Mr. Hiren \n",
      "Daftardar,  Ms. Anita Naik for their continual  support since the\n",
      " beginning  of the project and their \n",
      "help towards familiarization  and data collection.  They have been instrumental  in helping to \n",
      "contact various MCGM departments  as well as in helping to establish contact with personnel  from \n",
      "other government  departments  and organizations.  Many thanks for the MCGM team, for \n",
      "deploying  personnel,  particularly  Mr. Prasad Gharat, on extensive  field visits that have helped in \n",
      "understanding  actual ground conditions.  \n",
      " \n",
      "We apologize  if we have inadvertently  omitted anyone to whom acknowledgement  is due. We hope \n",
      "and anticipate  the work's usefulness  for the intended purpose. \n",
      " \n"
     ]
    }
   ],
   "source": [
    "import PyPDF2\n",
    "\n",
    "# Creating a PDF file object (Use raw string r\"\" or double backslashes to avoid escape errors)\n",
    "pdf_path = r\"C:\\Users\\quant\\Downloads\\file1pdf.pdf\"\n",
    "\n",
    "try:\n",
    "    with open(pdf_path, \"rb\") as pdf:\n",
    "        # Creating PDF reader object\n",
    "        pdf_reader = PyPDF2.PdfReader(pdf)\n",
    "        \n",
    "        # Checking number of pages\n",
    "        num_pages = len(pdf_reader.pages)\n",
    "        print(\"Number of pages:\", num_pages)\n",
    "\n",
    "        # Extract text from the first page (Change index if needed)\n",
    "        if num_pages > 1:  # Ensure there is a second page\n",
    "            page = pdf_reader.pages[1]  # Extract from second page (index 1)\n",
    "            print(page.extract_text())\n",
    "        else:\n",
    "            print(\"The PDF has only one page, extracting from page 1.\")\n",
    "            page = pdf_reader.pages[0]  # Extract from first page\n",
    "            print(page.extract_text())\n",
    "\n",
    "except FileNotFoundError:\n",
    "    print(\"Error: The file was not found.\")\n",
    "except Exception as e:\n",
    "    print(\"An error occurred:\", e)\n"
   ]
  },
  {
   "cell_type": "code",
   "execution_count": 4,
   "id": "17bf6bfd-fee2-4b32-81ef-c965c78b5f3d",
   "metadata": {},
   "outputs": [],
   "source": [
    "import PyPDF2, urllib , nltk\n",
    "\n",
    "from io import BytesIO\n",
    "\n",
    "from nltk.tokenize import word_tokenize\n",
    "\n",
    "from nltk.corpus import stopwords\n",
    "\n",
    "\n",
    "\n",
    "\n"
   ]
  },
  {
   "cell_type": "code",
   "execution_count": 5,
   "id": "05c8b231-0940-4c85-8dfa-b1ac5325a116",
   "metadata": {},
   "outputs": [],
   "source": [
    "#Reading the PDF\n",
    "\n",
    "wFile = urllib.request.urlopen('http://www.udri.org/pdf/02%20working%20paper%201.pdf')\n",
    "\n",
    "pdfreader = PyPDF2.PdfReader(BytesIO(wFile.read()))\n",
    "\n",
    "\n",
    "\n",
    "\n"
   ]
  },
  {
   "cell_type": "code",
   "execution_count": 6,
   "id": "a83c1ca3-ef45-4e56-adda-9f3017074b7b",
   "metadata": {},
   "outputs": [
    {
     "name": "stderr",
     "output_type": "stream",
     "text": [
      "[nltk_data] Downloading package punkt to\n",
      "[nltk_data]     C:\\Users\\quant\\AppData\\Roaming\\nltk_data...\n",
      "[nltk_data]   Package punkt is already up-to-date!\n",
      "[nltk_data] Downloading package stopwords to\n",
      "[nltk_data]     C:\\Users\\quant\\AppData\\Roaming\\nltk_data...\n",
      "[nltk_data]   Package stopwords is already up-to-date!\n",
      "[nltk_data] Downloading package averaged_perceptron_tagger to\n",
      "[nltk_data]     C:\\Users\\quant\\AppData\\Roaming\\nltk_data...\n",
      "[nltk_data]   Package averaged_perceptron_tagger is already up-to-\n",
      "[nltk_data]       date!\n"
     ]
    },
    {
     "data": {
      "text/plain": [
       "True"
      ]
     },
     "execution_count": 6,
     "metadata": {},
     "output_type": "execute_result"
    }
   ],
   "source": [
    "import nltk\n",
    "nltk.download('punkt')\n",
    "nltk.download('stopwords')\n",
    "nltk.download('averaged_perceptron_tagger')  # Optional, but useful for NLP tasks\n"
   ]
  },
  {
   "cell_type": "code",
   "execution_count": 3,
   "id": "731f47cb-3cb8-497f-ad8b-a1cff64c5214",
   "metadata": {},
   "outputs": [
    {
     "name": "stderr",
     "output_type": "stream",
     "text": [
      "[nltk_data] Downloading package punkt to\n",
      "[nltk_data]     C:\\Users\\quant\\AppData\\Roaming\\nltk_data...\n",
      "[nltk_data]   Package punkt is already up-to-date!\n",
      "[nltk_data] Downloading package stopwords to\n",
      "[nltk_data]     C:\\Users\\quant\\AppData\\Roaming\\nltk_data...\n",
      "[nltk_data]   Package stopwords is already up-to-date!\n"
     ]
    },
    {
     "name": "stdout",
     "output_type": "stream",
     "text": [
      "Number of pages: 35\n",
      "Extracted keywords: ['development', 'plan', 'greater', 'mumbai', '2014‐2034', 'table', 'contents', 'consultant', 'wishes', 'thank', 'following', 'individuals', 'municipal', 'corporation', 'greater', 'mumbai', 'invaluable', 'support', 'insights', 'contributions', 'towards', '‘', 'working', 'paper', '1', '–', 'preparation', 'base', 'map', '’', 'preparation', 'development', 'plan', 'greater', 'mumbai', '2014‐34', '.............................................................................................................................', '..............', '3', 'gratitude', 'following', 'experts', 'invaluable', 'insights', 'support', '............................', '3', 'wish', 'especially', 'thank', 'mcgm', 'officers', 'mr.', 'jagdish', 'talreja', 'mr.', 'dinesh', 'naik', 'mr.', 'hiren', 'daftardar', 'ms.', 'anita', 'naik', 'continual', 'support', 'since', 'beginning', 'project', 'help', 'towards', 'familiarization', 'data', 'collection', 'instrumental', 'helping', 'contact', 'various', 'mcgm', 'departments', 'well', 'helping', 'establish', 'contact', 'personnel', 'government', 'departments', 'organizations', 'many', 'thanks', 'mcgm', 'team', 'deploying', 'personnel', 'particularly', 'mr.', 'prasad', 'gharat', 'extensive', 'field', 'visits', 'helped', 'understanding', 'actual', 'ground', 'conditions', '........................................................................................', '3', 'best', '...............................................................................................................................', '.................', '5', 'brihanmumbai', 'electric', 'supply', 'transport', 'undertaking', '..............................................................', '5', 'cidco', '...............................................................................................................................', '..............', '5', 'city', 'industrial', 'development', 'corporation', '...............................................................................', '5', 'ctp', '...............................................................................................................................', '..................', '5', 'comprehensive', 'transportation', 'plan', '...............................................................................................', '5', 'dp', '...............................................................................................................................', '....................', '5', 'development', 'plan', '..........................................................................................................................', '5', 'dpgm34', '...............................................................................................................................', '..........', '5', 'development', 'plan', 'greater', 'mumbai', '2034', '.......................................................................................', '5', 'dcr', '...............................................................................................................................', '..................', '5', 'development', 'control', 'regulations', '...................................................................................................', '5', 'dgps', '...........................................................................................................................', '....................', '5', 'digital', 'global', 'positioning', 'system', '...................................................................................................', '5', 'dpgm', '...............................................................................................................................', '..............', '5', 'development', 'plan', 'greater', 'mumbai', '...........................................................................................', '5', 'elu', '...............................................................................................................................', '..................', '5', 'existing', 'land', 'use', '.............................................................................................................................', '5', 'fsi', '...............................................................................................................................', '....................', '5', 'floor', 'space', 'index', '............................................................................................................................', '5', 'gis', '...............................................................................................................................', '...................', '5']\n"
     ]
    }
   ],
   "source": [
    "import PyPDF2\n",
    "import nltk\n",
    "import string\n",
    "from nltk.tokenize import word_tokenize\n",
    "from nltk.corpus import stopwords\n",
    "\n",
    "# Ensure required NLTK data is downloaded\n",
    "nltk.download('punkt')\n",
    "nltk.download('stopwords')\n",
    "\n",
    "# Open and read PDF\n",
    "pdf_path = r\"C:\\Users\\quant\\Downloads\\file1pdf.pdf\"\n",
    "\n",
    "try:\n",
    "    with open(pdf_path, \"rb\") as pdf:\n",
    "        pdf_reader = PyPDF2.PdfReader(pdf)\n",
    "        \n",
    "        # Check number of pages\n",
    "        num_pages = len(pdf_reader.pages)\n",
    "        print(\"Number of pages:\", num_pages)\n",
    "\n",
    "        # Ensure there is a third page before accessing index [2]\n",
    "        if num_pages > 2:\n",
    "            page_obj = pdf_reader.pages[2]  # Extracting page 2 (zero-based index)\n",
    "            page2_text = page_obj.extract_text()\n",
    "\n",
    "            # Check if text extraction is successful\n",
    "            if page2_text:\n",
    "                tokens = word_tokenize(page2_text.lower())  # Convert to lowercase\n",
    "                stop_words = set(stopwords.words('english'))  # Load stop words\n",
    "                punctuation_set = set(string.punctuation)  # All punctuations\n",
    "                \n",
    "                # Filtering out stopwords & punctuation\n",
    "                keywords = [word for word in tokens if word not in stop_words and word not in punctuation_set]\n",
    "                \n",
    "                print(\"Extracted keywords:\", keywords)\n",
    "            else:\n",
    "                print(\"No extractable text found on page 2.\")\n",
    "        else:\n",
    "            print(\"The PDF has less than 3 pages, unable to extract page 2.\")\n",
    "\n",
    "except FileNotFoundError:\n",
    "    print(\"Error: The file was not found.\")\n",
    "except Exception as e:\n",
    "    print(\"An error occurred:\", e)\n",
    "\n",
    "\n"
   ]
  },
  {
   "cell_type": "code",
   "execution_count": 5,
   "id": "16543f6f-dc4e-4d58-b8c8-218c43c3f390",
   "metadata": {},
   "outputs": [
    {
     "data": {
      "text/plain": [
       "['development',\n",
       " 'plan',\n",
       " 'greater',\n",
       " 'mumbai',\n",
       " '2014‐2034',\n",
       " 'table',\n",
       " 'contents',\n",
       " 'consultant',\n",
       " 'wishes',\n",
       " 'thank',\n",
       " 'following',\n",
       " 'individuals',\n",
       " 'municipal',\n",
       " 'corporation',\n",
       " 'greater',\n",
       " 'mumbai',\n",
       " 'invaluable',\n",
       " 'support',\n",
       " 'insights',\n",
       " 'contributions',\n",
       " 'towards',\n",
       " '‘',\n",
       " 'working',\n",
       " 'paper',\n",
       " '1',\n",
       " '–',\n",
       " 'preparation',\n",
       " 'base',\n",
       " 'map',\n",
       " '’',\n",
       " 'preparation',\n",
       " 'development',\n",
       " 'plan',\n",
       " 'greater',\n",
       " 'mumbai',\n",
       " '2014‐34',\n",
       " '.............................................................................................................................',\n",
       " '..............',\n",
       " '3',\n",
       " 'gratitude',\n",
       " 'following',\n",
       " 'experts',\n",
       " 'invaluable',\n",
       " 'insights',\n",
       " 'support',\n",
       " '............................',\n",
       " '3',\n",
       " 'wish',\n",
       " 'especially',\n",
       " 'thank',\n",
       " 'mcgm',\n",
       " 'officers',\n",
       " 'mr.',\n",
       " 'jagdish',\n",
       " 'talreja',\n",
       " 'mr.',\n",
       " 'dinesh',\n",
       " 'naik',\n",
       " 'mr.',\n",
       " 'hiren',\n",
       " 'daftardar',\n",
       " 'ms.',\n",
       " 'anita',\n",
       " 'naik',\n",
       " 'continual',\n",
       " 'support',\n",
       " 'since',\n",
       " 'beginning',\n",
       " 'project',\n",
       " 'help',\n",
       " 'towards',\n",
       " 'familiarization',\n",
       " 'data',\n",
       " 'collection',\n",
       " 'instrumental',\n",
       " 'helping',\n",
       " 'contact',\n",
       " 'various',\n",
       " 'mcgm',\n",
       " 'departments',\n",
       " 'well',\n",
       " 'helping',\n",
       " 'establish',\n",
       " 'contact',\n",
       " 'personnel',\n",
       " 'government',\n",
       " 'departments',\n",
       " 'organizations',\n",
       " 'many',\n",
       " 'thanks',\n",
       " 'mcgm',\n",
       " 'team',\n",
       " 'deploying',\n",
       " 'personnel',\n",
       " 'particularly',\n",
       " 'mr.',\n",
       " 'prasad',\n",
       " 'gharat',\n",
       " 'extensive',\n",
       " 'field',\n",
       " 'visits',\n",
       " 'helped',\n",
       " 'understanding',\n",
       " 'actual',\n",
       " 'ground',\n",
       " 'conditions',\n",
       " '........................................................................................',\n",
       " '3',\n",
       " 'best',\n",
       " '...............................................................................................................................',\n",
       " '.................',\n",
       " '5',\n",
       " 'brihanmumbai',\n",
       " 'electric',\n",
       " 'supply',\n",
       " 'transport',\n",
       " 'undertaking',\n",
       " '..............................................................',\n",
       " '5',\n",
       " 'cidco',\n",
       " '...............................................................................................................................',\n",
       " '..............',\n",
       " '5',\n",
       " 'city',\n",
       " 'industrial',\n",
       " 'development',\n",
       " 'corporation',\n",
       " '...............................................................................',\n",
       " '5',\n",
       " 'ctp',\n",
       " '...............................................................................................................................',\n",
       " '..................',\n",
       " '5',\n",
       " 'comprehensive',\n",
       " 'transportation',\n",
       " 'plan',\n",
       " '...............................................................................................',\n",
       " '5',\n",
       " 'dp',\n",
       " '...............................................................................................................................',\n",
       " '....................',\n",
       " '5',\n",
       " 'development',\n",
       " 'plan',\n",
       " '..........................................................................................................................',\n",
       " '5',\n",
       " 'dpgm34',\n",
       " '...............................................................................................................................',\n",
       " '..........',\n",
       " '5',\n",
       " 'development',\n",
       " 'plan',\n",
       " 'greater',\n",
       " 'mumbai',\n",
       " '2034',\n",
       " '.......................................................................................',\n",
       " '5',\n",
       " 'dcr',\n",
       " '...............................................................................................................................',\n",
       " '..................',\n",
       " '5',\n",
       " 'development',\n",
       " 'control',\n",
       " 'regulations',\n",
       " '...................................................................................................',\n",
       " '5',\n",
       " 'dgps',\n",
       " '...........................................................................................................................',\n",
       " '....................',\n",
       " '5',\n",
       " 'digital',\n",
       " 'global',\n",
       " 'positioning',\n",
       " 'system',\n",
       " '...................................................................................................',\n",
       " '5',\n",
       " 'dpgm',\n",
       " '...............................................................................................................................',\n",
       " '..............',\n",
       " '5',\n",
       " 'development',\n",
       " 'plan',\n",
       " 'greater',\n",
       " 'mumbai',\n",
       " '...........................................................................................',\n",
       " '5',\n",
       " 'elu',\n",
       " '...............................................................................................................................',\n",
       " '..................',\n",
       " '5',\n",
       " 'existing',\n",
       " 'land',\n",
       " 'use',\n",
       " '.............................................................................................................................',\n",
       " '5',\n",
       " 'fsi',\n",
       " '...............................................................................................................................',\n",
       " '....................',\n",
       " '5',\n",
       " 'floor',\n",
       " 'space',\n",
       " 'index',\n",
       " '............................................................................................................................',\n",
       " '5',\n",
       " 'gis',\n",
       " '...............................................................................................................................',\n",
       " '...................',\n",
       " '5']"
      ]
     },
     "execution_count": 5,
     "metadata": {},
     "output_type": "execute_result"
    }
   ],
   "source": [
    "keywords"
   ]
  },
  {
   "cell_type": "code",
   "execution_count": 10,
   "id": "fa137e23-7d03-485a-ba6b-424c89d63fe0",
   "metadata": {},
   "outputs": [
    {
     "name": "stderr",
     "output_type": "stream",
     "text": [
      "[nltk_data] Downloading package punkt_tab to\n",
      "[nltk_data]     C:\\Users\\quant\\AppData\\Roaming\\nltk_data...\n",
      "[nltk_data]   Unzipping tokenizers\\punkt_tab.zip.\n"
     ]
    },
    {
     "data": {
      "text/plain": [
       "True"
      ]
     },
     "execution_count": 10,
     "metadata": {},
     "output_type": "execute_result"
    }
   ],
   "source": [
    "import nltk\n",
    "nltk.download('punkt_tab')"
   ]
  },
  {
   "cell_type": "code",
   "execution_count": 7,
   "id": "3d280f05-f648-4ed2-86a5-82abf9c83e92",
   "metadata": {},
   "outputs": [
    {
     "name": "stdout",
     "output_type": "stream",
     "text": [
      "[]\n"
     ]
    }
   ],
   "source": [
    "name_list = list()\n",
    "\n",
    "check =  ['Mr.', 'Mrs.', 'Ms.']\n",
    "\n",
    "for idx, token in enumerate(tokens):\n",
    "\n",
    "    if token.startswith(tuple(check)) and idx < (len(tokens)-1):\n",
    "\n",
    "        name = token + tokens[idx+1] + ' ' +  tokens[idx+2]\n",
    "\n",
    "        name_list.append(name)\n",
    "\n",
    " \n",
    "\n",
    "print(name_list)\n",
    "\n",
    "\n",
    "\n",
    "\n"
   ]
  },
  {
   "cell_type": "code",
   "execution_count": 9,
   "id": "cca5f39f-ea29-44c2-a123-6f75c4333eb7",
   "metadata": {},
   "outputs": [
    {
     "name": "stdout",
     "output_type": "stream",
     "text": [
      "Collecting python-docx\n",
      "  Downloading python_docx-1.1.2-py3-none-any.whl.metadata (2.0 kB)\n",
      "Requirement already satisfied: lxml>=3.1.0 in c:\\users\\quant\\anaconda3\\lib\\site-packages (from python-docx) (5.2.1)\n",
      "Requirement already satisfied: typing-extensions>=4.9.0 in c:\\users\\quant\\anaconda3\\lib\\site-packages (from python-docx) (4.11.0)\n",
      "Downloading python_docx-1.1.2-py3-none-any.whl (244 kB)\n",
      "   ---------------------------------------- 0.0/244.3 kB ? eta -:--:--\n",
      "   - -------------------------------------- 10.2/244.3 kB ? eta -:--:--\n",
      "   ---- ---------------------------------- 30.7/244.3 kB 435.7 kB/s eta 0:00:01\n",
      "   ------ -------------------------------- 41.0/244.3 kB 245.8 kB/s eta 0:00:01\n",
      "   ---------------------- --------------- 143.4/244.3 kB 944.1 kB/s eta 0:00:01\n",
      "   ---------------------------------------- 244.3/244.3 kB 1.1 MB/s eta 0:00:00\n",
      "Installing collected packages: python-docx\n",
      "Successfully installed python-docx-1.1.2\n"
     ]
    }
   ],
   "source": [
    "# install docx library\n",
    "\n",
    "!pip install python-docx\n",
    "\n",
    "\n",
    "\n",
    "\n"
   ]
  },
  {
   "cell_type": "code",
   "execution_count": 11,
   "id": "c1d50426-83fd-40ee-b4b7-5070b1567730",
   "metadata": {},
   "outputs": [],
   "source": [
    "#Import library\n",
    "\n",
    "import docx\n",
    "\n",
    "\n",
    "\n",
    "\n"
   ]
  },
  {
   "cell_type": "code",
   "execution_count": 17,
   "id": "a92129b1-90ae-4882-afec-d0eed12b7433",
   "metadata": {},
   "outputs": [
    {
     "name": "stdout",
     "output_type": "stream",
     "text": [
      "Number of pages: 35\n",
      "Extracted Text:  \n",
      " \n",
      " Development  Plan for Greater Mumbai 2014‐2034    \n",
      "\n"
     ]
    }
   ],
   "source": [
    "#Creating a word file object\n",
    "\n",
    "import PyPDF2\n",
    "\n",
    "# Correct file path (use raw string or double backslashes)\n",
    "pdf_path = r\"C:\\Users\\quant\\Downloads\\file1pdf.pdf\"\n",
    "\n",
    "# Open PDF in binary mode\n",
    "with open(pdf_path, \"rb\") as doc:\n",
    "    # Create a PDF reader object\n",
    "    pdf_reader = PyPDF2.PdfReader(doc)\n",
    "    \n",
    "    # Check number of pages\n",
    "    num_pages = len(pdf_reader.pages)\n",
    "    print(\"Number of pages:\", num_pages)\n",
    "\n",
    "    # Extract text from the first page (if exists)\n",
    "    if num_pages > 0:\n",
    "        first_page = pdf_reader.pages[0]\n",
    "        text = first_page.extract_text()\n",
    "        print(\"Extracted Text:\", text)\n",
    "    else:\n",
    "        print(\"The PDF is empty.\")\n"
   ]
  },
  {
   "cell_type": "code",
   "execution_count": null,
   "id": "8a7d4552-2af8-421d-b2c8-668d8ad8656f",
   "metadata": {},
   "outputs": [],
   "source": []
  }
 ],
 "metadata": {
  "kernelspec": {
   "display_name": "Python 3 (ipykernel)",
   "language": "python",
   "name": "python3"
  },
  "language_info": {
   "codemirror_mode": {
    "name": "ipython",
    "version": 3
   },
   "file_extension": ".py",
   "mimetype": "text/x-python",
   "name": "python",
   "nbconvert_exporter": "python",
   "pygments_lexer": "ipython3",
   "version": "3.12.4"
  }
 },
 "nbformat": 4,
 "nbformat_minor": 5
}
