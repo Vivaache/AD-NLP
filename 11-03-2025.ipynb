{
  "nbformat": 4,
  "nbformat_minor": 0,
  "metadata": {
    "colab": {
      "provenance": []
    },
    "kernelspec": {
      "name": "python3",
      "display_name": "Python 3"
    },
    "language_info": {
      "name": "python"
    }
  },
  "cells": [
    {
      "cell_type": "code",
      "execution_count": 12,
      "metadata": {
        "id": "RzUxRzjMZSYn"
      },
      "outputs": [],
      "source": [
        "import google.generativeai as genai\n",
        "from google.colab import userdata\n",
        "\n",
        "GOOGLE_API_KEY = userdata.get('GOOGLE_API_KEY')\n",
        "genai.configure(api_key=GOOGLE_API_KEY)"
      ]
    },
    {
      "cell_type": "code",
      "source": [
        "import pathlib\n",
        "import textwrap\n",
        "\n",
        "from IPython.display import display, Markdown\n",
        "def to_Markdown(text):\n",
        "  text = text.replace('.', '  *')\n",
        "  return Markdown(textwrap.indent(text, '> ', predicate=lambda _: True ))"
      ],
      "metadata": {
        "id": "txjjQDXvZ-BS"
      },
      "execution_count": 13,
      "outputs": []
    },
    {
      "cell_type": "code",
      "source": [
        "import PIL.Image\n",
        "img = PIL.Image.open(\"image1.jpg\")\n",
        "img\n",
        "model = genai.GenerativeModel('gemini-1.5-flash')\n",
        "response = model.generate_content([\"Write a short, engaging blog post based on this picture. It should include a description of the meal in the photo and talk about my journey meal prepping.\", img], stream=True)\n",
        "response.resolve()"
      ],
      "metadata": {
        "id": "h9xTHlN0aLm-"
      },
      "execution_count": 14,
      "outputs": []
    },
    {
      "cell_type": "code",
      "source": [
        "to_Markdown(response.text)"
      ],
      "metadata": {
        "colab": {
          "base_uri": "https://localhost:8080/",
          "height": 495
        },
        "id": "c-MIj-Sabapr",
        "outputId": "8119ba49-c6d6-45c6-ff55-be25ffb6b9ed"
      },
      "execution_count": 15,
      "outputs": [
        {
          "output_type": "execute_result",
          "data": {
            "text/plain": [
              "<IPython.core.display.Markdown object>"
            ],
            "text/markdown": "> ## My Meal Prep Journey: From Chaos to Calm (and Delicious!)\n> \n> Let's be honest, meal prepping isn't always rainbows and butterflies  *  There's a lot of chopping, cooking, and sometimes, a little bit of a mess  * But the payoff?  Totally worth it! Just look at this deliciousness:\n> \n> The photo shows two perfectly portioned containers of my latest meal prep masterpiece  *  Each one is a vibrant mix of fluffy white rice, tender teriyaki chicken, crunchy broccoli florets, and sweet and savory roasted carrots  * It's a balanced, flavorful meal that's ready in minutes – perfect for busy weekdays  *\n> \n> My meal prep journey started out chaotic  *  I’d try to prep everything on Sunday, only to end up with a fridge looking like a culinary disaster zone  * Dishes piled high, ingredients everywhere  *  I'd often end up ordering takeout anyway because finding something quickly among the chaos was easier than fighting through the mountain of food I prepared  *\n> \n> Then I shifted my strategy  *  Instead of trying to do everything at once, I now break my prep into smaller, more manageable tasks  *  I might chop veggies one night, marinate the chicken another, and then cook everything on the weekend  * This makes the process less daunting, and way more enjoyable  *  I also started using clear containers to see exactly what I have on hand – preventing food waste and reducing decision fatigue!\n> \n> The result?  Less stress, healthier eating, and more time to actually enjoy my life, knowing that I have a delicious, balanced meal ready for me each day  * This teriyaki chicken and veggie bowl is just one example – the possibilities are truly endless! What are your meal prep tips and tricks? Share in the comments!\n"
          },
          "metadata": {},
          "execution_count": 15
        }
      ]
    },
    {
      "cell_type": "code",
      "source": [
        "response = model.generate_content([\"Generate an accurate captionfor this image.\", img])\n",
        "print(response.text)"
      ],
      "metadata": {
        "colab": {
          "base_uri": "https://localhost:8080/",
          "height": 401
        },
        "id": "jE7s2VBmcuHj",
        "outputId": "576c419a-5605-4ada-9032-520a2967b6ce"
      },
      "execution_count": 16,
      "outputs": [
        {
          "output_type": "stream",
          "name": "stdout",
          "text": [
            "Here are a few caption options for the image of two glass containers filled with rice, chicken, broccoli, and carrots:\n",
            "\n",
            "**Option 1 (Simple & Descriptive):**\n",
            "\n",
            "> Healthy and delicious meal prep!  Chicken and broccoli with rice.\n",
            "\n",
            "**Option 2 (More Engaging):**\n",
            "\n",
            "> Lunch goals!  These easy-to-make chicken and veggie bowls are perfect for busy weekdays.  #mealprep #healthyfood #lunchideas\n",
            "\n",
            "**Option 3 (Focus on Convenience):**\n",
            "\n",
            "> Grab-and-go goodness!  Prepared meals made easy with these tasty chicken and veggie containers.  #mealprepsunday #healthymeals #convenientfood\n",
            "\n",
            "**Option 4 (A Bit More Playful):**\n",
            "\n",
            "> My kind of takeout – made at home!  Chicken, broccoli, carrots and rice – the perfect combination.  #healthylifestyle #homecooking #foodie\n",
            "\n",
            "\n",
            "The best option will depend on where you plan to use the caption (e.g., Instagram, blog, etc.) and your desired tone.\n",
            "\n"
          ]
        }
      ]
    },
    {
      "cell_type": "code",
      "source": [
        "from PIL import Image\n",
        "image_path = \"girl.jpg\"\n",
        "image = Image.open(image_path)\n",
        "response = model.generate_content([\"Describe this image in detail.\", image])\n",
        "print(response.text)"
      ],
      "metadata": {
        "colab": {
          "base_uri": "https://localhost:8080/",
          "height": 263
        },
        "id": "XaFdMUfOegNV",
        "outputId": "d895ec2a-f7b9-495c-85c5-2e7b90d533ca"
      },
      "execution_count": 17,
      "outputs": [
        {
          "output_type": "stream",
          "name": "stdout",
          "text": [
            "Here's a description of the image:\n",
            "\n",
            "Close-up view of a woman with shoulder-length, curly brown hair. \n",
            "\n",
            "\n",
            "She is smiling and gesturing with her right index finger, as if pointing to something off-camera. Her expression is friendly and engaging. \n",
            "\n",
            "\n",
            "She's wearing a teal blue three-quarter sleeve top or tunic with a subtle, repeating gold pattern. The top appears to be made of a relatively lightweight fabric. \n",
            "\n",
            "\n",
            "The background is a plain, bright white, which keeps the focus entirely on the woman. The lighting is even and soft, minimizing harsh shadows on her face.  The overall impression is a clean, bright, and professional headshot or portrait.\n",
            "\n"
          ]
        }
      ]
    },
    {
      "cell_type": "code",
      "source": [
        "response = model.generate_content([\"What emotions can you detect in this image?.\", img])\n",
        "print(response.text)"
      ],
      "metadata": {
        "colab": {
          "base_uri": "https://localhost:8080/",
          "height": 211
        },
        "id": "77EjW7mVgv0t",
        "outputId": "afe08077-a2aa-4471-e842-5f18b9066382"
      },
      "execution_count": 18,
      "outputs": [
        {
          "output_type": "stream",
          "name": "stdout",
          "text": [
            "Here's an interpretation of the emotions that the image of prepared food might evoke:\n",
            "\n",
            "The image primarily evokes feelings of:\n",
            "\n",
            "* **Appetite/Hunger:** The vibrant colors and appealing presentation of the food are likely to stimulate appetite and a desire to eat.\n",
            "* **Contentment/Satisfaction:**  The neatly portioned meals suggest a sense of order and preparation, potentially conveying feelings of preparedness and satisfaction.\n",
            "* **Health/Well-being:** The inclusion of vegetables and rice suggests a healthy and balanced meal, which could evoke feelings of well-being and care for oneself.  \n",
            "\n",
            "It is important to note that these are evoked emotions related to the food itself.  The image doesn't show people or situations that might evoke more complex emotions.\n",
            "\n"
          ]
        }
      ]
    },
    {
      "cell_type": "code",
      "source": [],
      "metadata": {
        "id": "QrsvEML7iD58"
      },
      "execution_count": null,
      "outputs": []
    }
  ]
}