{
  "nbformat": 4,
  "nbformat_minor": 0,
  "metadata": {
    "colab": {
      "provenance": []
    },
    "kernelspec": {
      "name": "python3",
      "display_name": "Python 3"
    },
    "language_info": {
      "name": "python"
    }
  },
  "cells": [
    {
      "cell_type": "code",
      "execution_count": 10,
      "metadata": {
        "id": "_sY4vhWUNwOV"
      },
      "outputs": [],
      "source": [
        "# Configure Gemini API\n",
        "\n",
        "import google.generativeai as genai\n",
        "\n",
        "from google.colab import userdata\n",
        "\n",
        "GOOGLE_API_KEY=userdata.get('GOOGLE_API_KEY')\n",
        "\n",
        "genai.configure(api_key=GOOGLE_API_KEY)\n",
        "\n",
        "\n",
        "\n",
        "\n"
      ]
    },
    {
      "cell_type": "code",
      "source": [
        "!pip install PyPDF2\n",
        "\n",
        "\n",
        "\n",
        "\n"
      ],
      "metadata": {
        "colab": {
          "base_uri": "https://localhost:8080/"
        },
        "id": "oKCykHr1N8Hf",
        "outputId": "607f0902-6659-496f-c1ba-23d65204d712"
      },
      "execution_count": 11,
      "outputs": [
        {
          "output_type": "stream",
          "name": "stdout",
          "text": [
            "Requirement already satisfied: PyPDF2 in /usr/local/lib/python3.11/dist-packages (3.0.1)\n"
          ]
        }
      ]
    },
    {
      "cell_type": "code",
      "source": [
        "!pip install PyPDF2\n",
        "\n",
        "\n",
        "\n",
        "\n"
      ],
      "metadata": {
        "colab": {
          "base_uri": "https://localhost:8080/"
        },
        "id": "JLkZxD4eOBNz",
        "outputId": "1a7f350e-38c7-48e2-e6a3-80bfa8c3f72b"
      },
      "execution_count": 12,
      "outputs": [
        {
          "output_type": "stream",
          "name": "stdout",
          "text": [
            "Requirement already satisfied: PyPDF2 in /usr/local/lib/python3.11/dist-packages (3.0.1)\n"
          ]
        }
      ]
    },
    {
      "cell_type": "code",
      "source": [
        "import PyPDF2\n",
        "\n",
        "def extract_text_from_pdf(pdf_path):\n",
        "\n",
        "  \"\"\"Extracts text from a given health report PDF using PyPDF2.\"\"\"\n",
        "\n",
        "  text = \"\"\n",
        "  with open(pdf_path, \"rb\") as pdf_file:\n",
        "    pdf_reader = PyPDF2.PdfReader(file)\n",
        "    for page in pdf_reader.pages:\n",
        "      text += page.extract_text() + \"\\n\"\n",
        "  return text"
      ],
      "metadata": {
        "id": "YK_2UvJ_Ox3v"
      },
      "execution_count": 13,
      "outputs": []
    },
    {
      "cell_type": "code",
      "source": [
        "def extract_health_insights(text):\n",
        "  model=genai.GenerativeModel(\"gemini-1.5-flash\")\n",
        "  prompt=f\"Extract key insights from the following health report:\\n\\n{text}\"\n",
        "  response=model.generate_content(prompt)\n",
        "  return response.text\n",
        "pdf_file=\"health_report.pdf\"\n",
        "extracted_text=extract_text_from_pdf(pdf_file)\n",
        "insights=extract_health_insights(extracted_text)\n",
        "print(\"Key insights:\\n\",insights)"
      ],
      "metadata": {
        "colab": {
          "base_uri": "https://localhost:8080/",
          "height": 540
        },
        "id": "VQKiKGHcPqAd",
        "outputId": "6f37d163-4a2a-46ce-c825-1c29166a9371"
      },
      "execution_count": 17,
      "outputs": [
        {
          "output_type": "stream",
          "name": "stdout",
          "text": [
            "Key insights:\n",
            " Mr. Kishan Goud's (MR Number: MR2100003157) health report from February 1st, 2021, reveals the following key insights:\n",
            "\n",
            "**Infectious Diseases:**\n",
            "\n",
            "* **Negative for Dengue:**  Tests for Dengue NS1 antigen, IgG, and IgM were all negative.\n",
            "* **Negative for Malaria:** Rapid Malaria tests for Plasmodium vivax (P.V) and Plasmodium falciparum (P.F) were negative.\n",
            "* **Widal Test:**  Elevated titers for *Salmonella Typhi* \"O\" (1:160) and \"H\" (1:80) suggest a possible past or recent infection with typhoid fever.  *Salmonella Paratyphi* \"A\" and \"B\" titers were within the normal range.  The interpretation of the Widal test requires clinical correlation as it can be affected by previous vaccinations or infections.\n",
            "\n",
            "\n",
            "**Hematology:**\n",
            "\n",
            "* **Elevated ESR:**  Erythrocyte Sedimentation Rate (ESR) was significantly elevated (26 mm/hr in the first hour and 52 mm/hr in the second hour), indicating possible inflammation or infection.\n",
            "* **Complete Blood Count (CBC):**  Hemoglobin, RBC, WBC, platelet count, and PCV were all within normal ranges.  Differential count showed normal neutrophil, lymphocyte, eosinophil, monocyte and basophil levels.  The peripheral blood smear showed normal RBC morphology and WBCs within normal limits.\n",
            "\n",
            "\n",
            "**Blood Chemistry:**\n",
            "\n",
            "* **Blood Glucose:** Random blood glucose level was not provided in this report\n",
            "* **HbA1c:**  HbA1c level was 5.4%, within the normal range for a non-diabetic individual.\n",
            "* **Liver Function Test (LFT):** All liver function tests (bilirubin, alkaline phosphatase, SGOT, SGPT, total protein, albumin, globulin, and A/G ratio) were within normal limits.\n",
            "* **Serum Electrolytes:** Serum sodium (122 mmol/l) was slightly below the normal range.  Potassium and chloride were within normal limits.\n",
            "* **Serum Creatinine:** Serum creatinine was within the normal range (0.8 mg/dl).\n",
            "\n",
            "\n",
            "**Overall:**\n",
            "\n",
            "The most significant findings are the elevated ESR and the positive Widal test (though requiring clinical context).  The negative tests for dengue and malaria rule out those specific infections. The remaining blood work is largely unremarkable except for slightly low sodium levels that needs investigation.  Further clinical evaluation is necessary to determine the cause of the elevated ESR and the significance of the Widal test results.  The low sodium also requires further clinical assessment.\n",
            "\n"
          ]
        }
      ]
    },
    {
      "cell_type": "code",
      "source": [
        "def summarize_health_report(text):\n",
        "  \"\"\"summarizes the health report using Gemini AI.\"\"\"\n",
        "  # Changed 'gemini=1.5-flash' to 'gemini-1.5-flash' in the model name\n",
        "  model = genai.GenerativeModel(\"gemini-1.5-flash\")\n",
        "  prompt=f\"Summmarize the following health report in a concise manner:\\n\\n{text}\"\n",
        "  response=model.generate_content(prompt)\n",
        "  return response.text\n",
        "\n",
        "summary = summarize_health_report(extracted_text)\n",
        "print(\"Summary:\\n\",summary)"
      ],
      "metadata": {
        "colab": {
          "base_uri": "https://localhost:8080/",
          "height": 315
        },
        "id": "5a81vDoFQkUL",
        "outputId": "682769e9-664a-4d3c-d819-cc1152cd7a74"
      },
      "execution_count": 20,
      "outputs": [
        {
          "output_type": "stream",
          "name": "stdout",
          "text": [
            "Summary:\n",
            " Mr. Kishan Goud's (MR2100003157) blood tests on 01/02/2021 showed:\n",
            "\n",
            "* **Widal test:** Elevated titers for *Salmonella Typhi* \"O\" (1:160) and \"H\" (1:80), suggesting possible typhoid.  *Salmonella Paratyphi* AH and BH were within the normal range.\n",
            "* **Dengue serology:** Negative for NS1 antigen, IgG, and IgM.\n",
            "* **ESR:** Elevated (26 mm/hr in the first hour, 52 mm/hr in the second hour), indicating inflammation.\n",
            "* **Malaria test:** Negative for *Plasmodium vivax* and *Plasmodium falciparum*.\n",
            "* **Complete blood picture:**  Hemoglobin, RBC, WBC, and platelet counts within normal limits.  Differential count also within normal range.\n",
            "* **HbA1c:** 5.4% (within the normal non-diabetic range).\n",
            "* **Serum creatinine:** 0.8 mg/dl (within normal range).\n",
            "* **Random blood glucose:**  Not provided in the text.\n",
            "* **Liver function tests:** All within normal limits.\n",
            "* **Serum electrolytes:** Sodium slightly low (122 mmol/l), potassium and chloride within normal ranges.\n",
            "\n",
            "Overall, the results suggest a possible typhoid infection, indicated by the Widal test, and inflammation.  Further investigation may be necessary.  The other tests largely show normal results.\n",
            "\n"
          ]
        }
      ]
    },
    {
      "cell_type": "code",
      "source": [
        "def detecty_abnormalities(text):\n",
        "  \"\"\"Analyzes lab test results and flaggs abnormal values.\"\"\"\n",
        "  model = genai.GenerativeModel(\"gemini-1.5-flash\")\n",
        "  prompt = f\"Analyze the lab test results in the following health report for abnormal values:\\n\\n{text}\"\n",
        "  response = model.generate_content(prompt)\n",
        "  return response.text\n",
        "abnormalities = detecty_abnormalities(extracted_text)\n",
        "print(\"Abnormal values:\\n\",abnormalities)"
      ],
      "metadata": {
        "colab": {
          "base_uri": "https://localhost:8080/",
          "height": 315
        },
        "id": "VDvZhd68TN2V",
        "outputId": "74c7ce97-39a4-4494-d358-349b55bf1051"
      },
      "execution_count": 22,
      "outputs": [
        {
          "output_type": "stream",
          "name": "stdout",
          "text": [
            "Abnormal values:\n",
            " Based on the provided lab results, several values fall outside the reference ranges, indicating potential abnormalities:\n",
            "\n",
            "* **Widal Test:**  S. Typhi \"O\" (1:160) and S. Typhi \"H\" (1:80) are significantly higher than the reference range (1:20). This strongly suggests a past or present infection with *Salmonella Typhi*, the bacteria that causes typhoid fever.  Further investigation and clinical correlation are necessary to confirm.\n",
            "\n",
            "* **Erythrocyte Sedimentation Rate (ESR):**  Both the 1st hour (26 mm/hr) and 2nd hour (52 mm/hr) ESR values are significantly elevated above the normal range (0-8 mm/hr for the first hour).  Elevated ESR indicates inflammation in the body, but it is a non-specific marker and could be due to various conditions.  Further investigation is needed to determine the underlying cause.\n",
            "\n",
            "* **Serum Sodium:** The serum sodium level (122 mmol/l) is below the reference range (135-146 mmol/l), indicating hyponatremia (low sodium levels in the blood).  This can be a serious condition with various causes, requiring medical attention and further investigation.\n",
            "\n",
            "* **Serum Chloride:**  Serum Chloride (97 mmol/l) is slightly below the lower limit of the reference range (98-107 mmol/l). While not drastically low, it could contribute to the electrolyte imbalance along with the hyponatremia and warrants further evaluation.\n",
            "\n",
            "**Other values are within the normal range or only slightly outside the lower limit.**  The slightly low platelet count (2.0 lakhs/cumm) is close to the lower limit of normal and may not be clinically significant on its own, especially with the adequate platelets reported in the peripheral blood smear.\n",
            "\n",
            "\n",
            "**Important Note:** This analysis is for informational purposes only and should not be considered medical advice.  Mr. Kishan Goud should consult with his physician, Dr. Krishna Prasad, to discuss these results and their implications.  The doctor will consider these lab values in conjunction with the patient's symptoms, medical history, and other clinical findings to make a proper diagnosis and determine the necessary course of treatment.\n",
            "\n"
          ]
        }
      ]
    },
    {
      "cell_type": "code",
      "source": [
        "def explain_medical_terms(text):\n",
        "  \"\"\"Asks Gemini AI to simplify medical terms for patient understanding.\"\"\"\n",
        "  model = genai.GenerativeModel(\"gemini-1.5-flash\")\n",
        "  prompt = f\"Explain the medical terms in the following health report in simple language:\\n\\n{text}\"\n",
        "  response = model.generate_content(prompt)\n",
        "  return response.text\n",
        "explaination = explain_medical_terms(extracted_text)\n",
        "print(\"Simplified Explaination:\\n\",explaination)"
      ],
      "metadata": {
        "colab": {
          "base_uri": "https://localhost:8080/",
          "height": 888
        },
        "id": "xg2AmOPAVU9o",
        "outputId": "1e586276-c03f-4260-e372-e708da776b76"
      },
      "execution_count": 23,
      "outputs": [
        {
          "output_type": "stream",
          "name": "stdout",
          "text": [
            "Simplified Explaination:\n",
            " This report shows the results of various blood tests performed on Mr. Kishan Goud. Let's break down the results in simple terms:\n",
            "\n",
            "**1. Widal Test:** This test checks for antibodies against *Salmonella Typhi* and *Salmonella Paratyphi*, bacteria that cause typhoid fever and paratyphoid fever.  The numbers (e.g., 1:160) represent the dilution of the sample; a higher number indicates a stronger reaction and suggests possible infection. In Mr. Goud's case:\n",
            "\n",
            "* **S. Typhi \"O\" 1:160:**  Suggests a possible past or current infection with *Salmonella Typhi*.  The \"O\" refers to a specific antigen (part) of the bacteria.\n",
            "* **S. Typhi \"H\" 1:80:**  Also suggests a possible past or current infection with *Salmonella Typhi*. The \"H\" refers to a different antigen of the same bacteria.\n",
            "* **S. Paratyphi \"AH\" 1:20:**  Within the normal range, indicating no evidence of *Salmonella Paratyphi A* infection.\n",
            "* **S. Paratyphi \"BH\" 1:20:** Within the normal range, indicating no evidence of *Salmonella Paratyphi B* infection.\n",
            "\n",
            "**Important Note:**  A Widal test alone isn't definitive for typhoid.  Further testing might be needed to confirm a diagnosis.\n",
            "\n",
            "\n",
            "**2. Dengue Serology:** This checks for dengue fever, a viral infection spread by mosquitoes.  All results (NS1 antigen, IgG, and IgM) are negative, meaning there's no evidence of current or recent dengue infection.\n",
            "\n",
            "\n",
            "**3. Erythrocyte Sedimentation Rate (ESR):** This measures how quickly red blood cells settle in a tube of blood. A higher ESR can indicate inflammation or infection in the body. Mr. Goud's ESR is elevated (26 mm/hr in the first hour, 52 mm/hr in the second), suggesting the presence of inflammation.\n",
            "\n",
            "\n",
            "**4. Rapid Malaria Test:** This test screens for malaria parasites in the blood. Both *Plasmodium vivax* (P.V) and *Plasmodium falciparum* (P.F) tests are negative, meaning no malaria infection was detected.\n",
            "\n",
            "\n",
            "**5. Complete Blood Picture (CBC):** This is a comprehensive blood test that includes:\n",
            "\n",
            "* **Hemoglobin (Hb):**  Carries oxygen in the blood.  Mr. Goud's level (13.6 gm%) is within the normal range.\n",
            "* **Red Blood Cells (RBC):**  Carry oxygen. His count (4.3 million/cumm) is slightly low but within the generally acceptable range.\n",
            "* **White Blood Cells (WBC):**  Fight infection. His count (7,200 cells/cumm) is within the normal range.\n",
            "* **Platelets:** Help blood clot. His count (2.0 lakhs/cumm) is within the normal range.\n",
            "* **Packed Cell Volume (PCV):** The percentage of red blood cells in the blood. His result (40.5%) is within the normal range.\n",
            "* **Differential Count:** This breaks down the types of white blood cells. All are within normal ranges.\n",
            "* **Peripheral Blood Smear:** A microscopic examination of blood; all components are reported as normal.\n",
            "\n",
            "\n",
            "**6. HbA1c:** This test measures average blood sugar levels over the past 2-3 months. Mr. Goud's level (5.4%) falls within the normal range for non-diabetics, indicating good blood sugar control.\n",
            "\n",
            "\n",
            "**7. Serum Creatinine:** This measures kidney function. Mr. Goud's level (0.8 mg/dl) is within the normal range.\n",
            "\n",
            "\n",
            "**8. Random Blood Glucose:**  This measures blood sugar at a random time.  Mr. Goud's level is not provided in the report.  The reference range is shown as 60-170 mg/dl.\n",
            "\n",
            "\n",
            "**9. Liver Function Test (LFT):** These tests assess liver health.  All results (bilirubin, alkaline phosphatase, SGOT, SGPT, total protein, albumin, globulin, A/G ratio) are within the normal ranges.\n",
            "\n",
            "\n",
            "**10. Serum Electrolytes:** These tests measure the levels of sodium, potassium, and chloride in the blood.  Sodium is slightly low (122 mmol/l), while potassium and chloride are within normal ranges.\n",
            "\n",
            "**In summary:**  The results show some evidence of inflammation (elevated ESR), possibly from a past *Salmonella* infection. However, there is no evidence of active dengue, malaria, or significant issues with liver or kidney function. The slightly low sodium level may require further investigation.  It's crucial to discuss these results with Dr. Krishna Prasad for a proper interpretation and diagnosis.  This explanation is for informational purposes only and does not constitute medical advice.\n",
            "\n"
          ]
        }
      ]
    },
    {
      "cell_type": "code",
      "source": [
        "def ask_gemini_about_report(text,question):\n",
        "  \"\"\"Allows users to ask questions about thier health report.\"\"\"\n",
        "  model = genai.GenerativeModel(\"gemini-1.5-flash\")\n",
        "  prompt = f\"the following is a health report:\\n\\n{question}\\n\\n{text}\"\n",
        "  response = model.generate_content(prompt)\n",
        "  return response.text\n",
        "question = \"What is the patient's diagnosis?\"\n",
        "answer = ask_gemini_about_report(extracted_text,question)\n",
        "print(\"Answer:\\n\",answer)"
      ],
      "metadata": {
        "colab": {
          "base_uri": "https://localhost:8080/",
          "height": 89
        },
        "id": "NUqAZW_OWhZ_",
        "outputId": "e419da9b-e8e0-456d-a27a-faef06c92791"
      },
      "execution_count": 24,
      "outputs": [
        {
          "output_type": "stream",
          "name": "stdout",
          "text": [
            "Answer:\n",
            " The report shows elevated titers for *Salmonella Typhi* \"O\" (1:160) and \"H\" (1:80) antigens on the Widal test, exceeding the reference range of 1:20.  This strongly suggests a diagnosis of **Typhoid fever**.  All other tests (Dengue, Malaria, complete blood count, liver function tests, electrolytes, etc.) are within normal limits or negative,  pointing towards typhoid as the most likely cause of the patient's symptoms.\n",
            "\n"
          ]
        }
      ]
    },
    {
      "cell_type": "code",
      "source": [],
      "metadata": {
        "id": "MwQVmSftXaqN"
      },
      "execution_count": null,
      "outputs": []
    }
  ]
}